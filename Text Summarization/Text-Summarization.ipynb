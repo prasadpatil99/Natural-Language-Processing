{
 "cells": [
  {
   "cell_type": "markdown",
   "metadata": {},
   "source": [
    "### [Web Scrapping](https://github.com/prasadpatil99/Web-Scrapping/blob/master/Simple-Web-Scrapping.py)"
   ]
  },
  {
   "cell_type": "code",
   "execution_count": 1,
   "metadata": {},
   "outputs": [],
   "source": [
    "# %load Simple-Web-Scrapping.py\n",
    "import urllib\n",
    "import nltk\n",
    "import re\n",
    "import bs4 \n",
    "from nltk.corpus import stopwords\n",
    "\n",
    "link = 'https://en.wikipedia.org/wiki/Quantum_machine_learning'\n",
    "\n",
    "def req(link):\n",
    "    raw = urllib.request.urlopen(link).read()\n",
    "    soup = bs4.BeautifulSoup(raw, 'lxml')\n",
    "    return soup\n",
    "\n",
    "raw_data = req(link)\n",
    "\n",
    "text = \"\"\n",
    "for paragraph in raw_data.find_all('p'):   # extract from 'p' tag\n",
    "    text += paragraph.text\n",
    "    \n",
    "def preprocess(data):\n",
    "    text = re.sub(r'\\[[0-9]*\\]',' ',data) # remove numbers\n",
    "    text = re.sub(r'\\s+',' ',text) # eliminate duplicate whitespaces\n",
    "    text = text.lower()\n",
    "    text = re.sub(r'\\s+',' ',text)\n",
    "    return text\n",
    "\n",
    "dataset = preprocess(text)"
   ]
  },
  {
   "cell_type": "markdown",
   "metadata": {},
   "source": [
    "### Tokenize Sentence"
   ]
  },
  {
   "cell_type": "code",
   "execution_count": 2,
   "metadata": {},
   "outputs": [
    {
     "data": {
      "text/plain": [
       "['quantum machine learning is an emerging interdisciplinary research area at the intersection of quantum physics and machine learning.',\n",
       " 'the most common use of the term refers to machine learning algorithms for the analysis of classical data executed on a quantum computer, i.e.',\n",
       " 'quantum-enhanced machine learning.',\n",
       " 'while machine learning algorithms are used to compute immense quantities of data, quantum machine learning increases such capabilities intelligently, by creating opportunities to conduct analysis on quantum states and systems.',\n",
       " 'this includes hybrid methods that involve both classical and quantum processing, where computationally difficult subroutines are outsourced to a quantum device.']"
      ]
     },
     "execution_count": 2,
     "metadata": {},
     "output_type": "execute_result"
    }
   ],
   "source": [
    "clean_text = nltk.sent_tokenize(dataset)\n",
    "clean_text[0:5]"
   ]
  },
  {
   "cell_type": "markdown",
   "metadata": {},
   "source": [
    "### Initialize Stopwords "
   ]
  },
  {
   "cell_type": "code",
   "execution_count": 3,
   "metadata": {},
   "outputs": [],
   "source": [
    "stop_words = nltk.corpus.stopwords.words('english')"
   ]
  },
  {
   "cell_type": "code",
   "execution_count": 4,
   "metadata": {},
   "outputs": [],
   "source": [
    "# Function to display dictionary within range\n",
    "def display(feat):\n",
    "    import itertools \n",
    "    out = dict(itertools.islice(feat.items(), 9))   \n",
    "    print(\" \" + str(out))"
   ]
  },
  {
   "cell_type": "markdown",
   "metadata": {},
   "source": [
    "### Word Count"
   ]
  },
  {
   "cell_type": "markdown",
   "metadata": {},
   "source": [
    "Store all the words occurence along with its name"
   ]
  },
  {
   "cell_type": "code",
   "execution_count": 5,
   "metadata": {},
   "outputs": [
    {
     "name": "stdout",
     "output_type": "stream",
     "text": [
      " {'quantum': 139, 'machine': 35, 'learning': 69, 'emerging': 1, 'interdisciplinary': 1, 'research': 7, 'area': 1, 'intersection': 1, 'physics': 2}\n"
     ]
    }
   ],
   "source": [
    "wordfreq = {}\n",
    "\n",
    "for word in nltk.word_tokenize(dataset):\n",
    "    if word not in stop_words:\n",
    "        if word not in wordfreq.keys():\n",
    "            wordfreq[word] = 1\n",
    "        else:\n",
    "            wordfreq[word] += 1\n",
    "            \n",
    "display(wordfreq)"
   ]
  },
  {
   "cell_type": "markdown",
   "metadata": {},
   "source": [
    "### Weighted Frequency of Words"
   ]
  },
  {
   "cell_type": "markdown",
   "metadata": {},
   "source": [
    "Convert corresponding word occurence with the maximum number of count"
   ]
  },
  {
   "cell_type": "code",
   "execution_count": 6,
   "metadata": {},
   "outputs": [
    {
     "name": "stdout",
     "output_type": "stream",
     "text": [
      " {'quantum': 0.8323353293413174, 'machine': 0.20958083832335328, 'learning': 0.41317365269461076, 'emerging': 0.005988023952095809, 'interdisciplinary': 0.005988023952095809, 'research': 0.041916167664670656, 'area': 0.005988023952095809, 'intersection': 0.005988023952095809, 'physics': 0.011976047904191617}\n"
     ]
    }
   ],
   "source": [
    "max_count = max(wordfreq.values())\n",
    "\n",
    "for key in wordfreq.keys():\n",
    "    wordfreq[key] = wordfreq[key]/max_count\n",
    "    \n",
    "display(wordfreq)"
   ]
  },
  {
   "cell_type": "markdown",
   "metadata": {},
   "source": [
    "### Evaluate Sentence Score"
   ]
  },
  {
   "cell_type": "markdown",
   "metadata": {},
   "source": [
    "Store texts that contain words less than 25 and which are not present previously, if present add weighted frequency value to its existing word<br> and if not add word in dictonary giving it weighted frequency value of first word. "
   ]
  },
  {
   "cell_type": "code",
   "execution_count": 7,
   "metadata": {},
   "outputs": [],
   "source": [
    "sentscore = {}\n",
    "\n",
    "for sentence in clean_text:\n",
    "    for word in nltk.word_tokenize(dataset):\n",
    "        if word in wordfreq.keys():\n",
    "            if len(sentence.split(' ')) < 25:\n",
    "                if sentence not in sentscore.keys():\n",
    "                    sentscore[sentence] = wordfreq[word]\n",
    "                else:\n",
    "                    sentscore[sentence] += wordfreq[word]"
   ]
  },
  {
   "cell_type": "markdown",
   "metadata": {},
   "source": [
    "### Results\n",
    "Obtain first 7 line"
   ]
  },
  {
   "cell_type": "code",
   "execution_count": 8,
   "metadata": {},
   "outputs": [],
   "source": [
    "summ=[]\n",
    "for _ in sentscore.keys():\n",
    "    summ.append(_)\n",
    "    if len(summ)>7:\n",
    "        break"
   ]
  },
  {
   "cell_type": "code",
   "execution_count": 9,
   "metadata": {},
   "outputs": [
    {
     "name": "stdout",
     "output_type": "stream",
     "text": [
      "quantum machine learning is an emerging interdisciplinary research area at the intersection of quantum physics and machine learning.the most common use of the term refers to machine learning algorithms for the analysis of classical data executed on a quantum computer, i.e.quantum-enhanced machine learning.this includes hybrid methods that involve both classical and quantum processing, where computationally difficult subroutines are outsourced to a quantum device.these routines can be more complex in nature and executed faster with the assistance of quantum devices.furthermore, quantum algorithms can be used to analyze quantum states instead of classical data.beyond quantum computing, the term \"quantum machine learning\" is often associated with classical machine learning methods applied to data generated from quantum experiments (i.e.machine learning of quantum systems), such as learning quantum phase transitions or creating new quantum experiments."
     ]
    }
   ],
   "source": [
    "for _ in summ:\n",
    "    print(_,end='')"
   ]
  },
  {
   "cell_type": "code",
   "execution_count": null,
   "metadata": {},
   "outputs": [],
   "source": []
  }
 ],
 "metadata": {
  "kernelspec": {
   "display_name": "Python 3",
   "language": "python",
   "name": "python3"
  },
  "language_info": {
   "codemirror_mode": {
    "name": "ipython",
    "version": 3
   },
   "file_extension": ".py",
   "mimetype": "text/x-python",
   "name": "python",
   "nbconvert_exporter": "python",
   "pygments_lexer": "ipython3",
   "version": "3.7.3"
  }
 },
 "nbformat": 4,
 "nbformat_minor": 2
}
